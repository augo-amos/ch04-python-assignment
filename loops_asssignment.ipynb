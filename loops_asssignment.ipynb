{
 "cells": [
  {
   "cell_type": "markdown",
   "id": "f100e035",
   "metadata": {},
   "source": [
    "## **Loops**\n",
    "- Use a for loop to print numbers from 1 to 10."
   ]
  },
  {
   "cell_type": "code",
   "execution_count": null,
   "id": "3906690b",
   "metadata": {},
   "outputs": [],
   "source": [
    "for i in range(1, 11):\n",
    "    print(i)"
   ]
  },
  {
   "cell_type": "markdown",
   "id": "43a227ef",
   "metadata": {},
   "source": [
    "- Use a while loop to print numbers until the user enters stop."
   ]
  },
  {
   "cell_type": "code",
   "execution_count": 16,
   "id": "44922aee",
   "metadata": {},
   "outputs": [
    {
     "name": "stdout",
     "output_type": "stream",
     "text": [
      "1\n"
     ]
    }
   ],
   "source": [
    "i = 1\n",
    "stop = False\n",
    "while not stop:\n",
    "    print(i)\n",
    "    i += 1\n",
    "    user_input = input(\"Type 'stop' to exit, or press enter to continue:\" )\n",
    "    if user_input.lower() == 'stop':\n",
    "        break  \n"
   ]
  },
  {
   "cell_type": "code",
   "execution_count": null,
   "id": "12d93c7a",
   "metadata": {},
   "outputs": [],
   "source": [
    "import threading, time\n",
    "\n",
    "stop = False\n",
    "\n",
    "def count_numbers():\n",
    "    i = 1\n",
    "    while stop is False:\n",
    "        print(i)\n",
    "        i += 1\n",
    "        time.sleep(0.5) \n",
    "\n",
    "def wait_for_stop():\n",
    "    global stop\n",
    "    if input(\"Type 'stop' to end: \").lower() == \"stop\":\n",
    "        stop = True\n",
    "        print(\"Loop stopped by user.\")\n",
    "\n",
    "threading.Thread(target=count_numbers).start()\n",
    "threading.Thread(target=wait_for_stop).start()\n"
   ]
  },
  {
   "cell_type": "markdown",
   "id": "4122f25e",
   "metadata": {},
   "source": [
    "- Write a loop that prints even numbers from 1 to 20."
   ]
  },
  {
   "cell_type": "code",
   "execution_count": null,
   "id": "c23c755a",
   "metadata": {},
   "outputs": [],
   "source": [
    "for i in range(1, 21):\n",
    "    if i%2 == 0:\n",
    "        print(i)"
   ]
  },
  {
   "cell_type": "code",
   "execution_count": null,
   "id": "1fddc1a5",
   "metadata": {},
   "outputs": [],
   "source": [
    "i = 1\n",
    "while i <= 20:\n",
    "    if i % 2 == 0:\n",
    "        print(i)\n",
    "    i +=1"
   ]
  },
  {
   "cell_type": "markdown",
   "id": "32a1a046",
   "metadata": {},
   "source": [
    "- Explain what break and continue do in your own words."
   ]
  },
  {
   "cell_type": "markdown",
   "id": "17249bb8",
   "metadata": {},
   "source": [
    "- *Break - exits a loop even if the loop condition is still true*\n",
    "- *Continue - skips the current loop and moves to the next*"
   ]
  },
  {
   "cell_type": "markdown",
   "id": "d2fa381d",
   "metadata": {},
   "source": [
    "## **Challenge**\n",
    "Write a guessing game that asks the user to guess a secret number between 1 and 10.\n",
    "\n",
    "- Give feedback (too high / too low)\n",
    "- Use a while loop"
   ]
  },
  {
   "cell_type": "code",
   "execution_count": 28,
   "id": "82e360d6",
   "metadata": {},
   "outputs": [
    {
     "name": "stdout",
     "output_type": "stream",
     "text": [
      "Too low!\n"
     ]
    }
   ],
   "source": [
    "secret_number = 7\n",
    "\n",
    "user_input = int(input(\"Type a number between 1 and 10: \"))\n",
    "while True:\n",
    "    if user_input < secret_number:\n",
    "        print(\"Too low!\")\n",
    "    elif user_input > secret_number:\n",
    "        print(\"Too high!\")\n",
    "    else:\n",
    "        print(\"Congratulations! You've guessed the number.\")\n",
    "\n",
    "    break\n",
    "    "
   ]
  }
 ],
 "metadata": {
  "kernelspec": {
   "display_name": "base",
   "language": "python",
   "name": "python3"
  },
  "language_info": {
   "codemirror_mode": {
    "name": "ipython",
    "version": 3
   },
   "file_extension": ".py",
   "mimetype": "text/x-python",
   "name": "python",
   "nbconvert_exporter": "python",
   "pygments_lexer": "ipython3",
   "version": "3.12.7"
  }
 },
 "nbformat": 4,
 "nbformat_minor": 5
}
