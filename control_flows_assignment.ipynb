{
 "cells": [
  {
   "cell_type": "markdown",
   "id": "0091f56e",
   "metadata": {},
   "source": [
    "## **Control Flows**\n",
    "Write a program that checks if a number is positive, negative, or zero.\n"
   ]
  },
  {
   "cell_type": "code",
   "execution_count": null,
   "id": "5bf8a86e",
   "metadata": {},
   "outputs": [
    {
     "name": "stdout",
     "output_type": "stream",
     "text": [
      "The number is positive\n"
     ]
    }
   ],
   "source": [
    "user_input = int(input('Enter any number:'))\n",
    "if user_input > 0:\n",
    "    print('The number is positive')\n",
    "elif user_input < 0:\n",
    "    print('The number is negative')\n",
    "else:\n",
    "    print('The number is zero')"
   ]
  },
  {
   "cell_type": "markdown",
   "id": "0c2631c1",
   "metadata": {},
   "source": [
    "Create a program that checks if someone is eligible to vote.\n"
   ]
  },
  {
   "cell_type": "code",
   "execution_count": null,
   "id": "0e41cbbb",
   "metadata": {},
   "outputs": [
    {
     "name": "stdout",
     "output_type": "stream",
     "text": [
      "You are not eligible to vote\n"
     ]
    }
   ],
   "source": [
    "age = int(input('Enter your age:'))\n",
    "registration_status = input('Are you a registered voter? (yes/no): ').strip().lower()\n",
    "\n",
    "if age >= 18 and registration_status == 'yes':\n",
    "\n",
    "    print('You are eligible to vote')\n",
    "else:\n",
    "    print('You are not eligible to vote')"
   ]
  },
  {
   "cell_type": "markdown",
   "id": "22cfed24",
   "metadata": {},
   "source": [
    "Write a program that takes 3 numbers and prints the largest one.\n"
   ]
  },
  {
   "cell_type": "code",
   "execution_count": 6,
   "id": "84f3797a",
   "metadata": {},
   "outputs": [
    {
     "name": "stdout",
     "output_type": "stream",
     "text": [
      "The largest number of [33, 65, 90] is: 90\n"
     ]
    }
   ],
   "source": [
    "nums = []\n",
    "for i in range (1, 4):\n",
    "    num = int(input(f'Enter number {i}: '))\n",
    "    nums.append(num)\n",
    "largest = max(nums)\n",
    "\n",
    "print(f'The largest number of {nums} is: {largest}')\n"
   ]
  },
  {
   "cell_type": "markdown",
   "id": "e8a8ef8a",
   "metadata": {},
   "source": [
    "Practice combining and, or, not."
   ]
  },
  {
   "cell_type": "code",
   "execution_count": 9,
   "id": "a4f11a83",
   "metadata": {},
   "outputs": [
    {
     "name": "stdout",
     "output_type": "stream",
     "text": [
      "You are allowed to enter.\n"
     ]
    }
   ],
   "source": [
    "age = int(input('Enter your age: '))\n",
    "has_ticket = True\n",
    "is_vip = False\n",
    "\n",
    "\n",
    "if (age >= 18 and has_ticket) or (not has_ticket and is_vip):\n",
    "    print(\"You are allowed to enter.\")\n",
    "else:\n",
    "    print(\"You are not allowed to enter.\")\n"
   ]
  },
  {
   "cell_type": "markdown",
   "id": "875588f5",
   "metadata": {},
   "source": [
    "## **Challenge**\n",
    "Build a grading system:\n",
    "\n",
    "- Input score (0–100)\n",
    "- Output grade: A (90+), B (80–89), etc."
   ]
  },
  {
   "cell_type": "code",
   "execution_count": 12,
   "id": "a759d8dd",
   "metadata": {},
   "outputs": [
    {
     "name": "stdout",
     "output_type": "stream",
     "text": [
      "Your grade is 'B'\n"
     ]
    }
   ],
   "source": [
    "score = int(input('Enter your score (0-100): '))\n",
    "if 90 <= score <= 100:\n",
    "    print(\"Your grade is 'A'\")\n",
    "elif 80 <= score < 90:\n",
    "    print(\"Your grade is 'B'\")    \n",
    "elif 70 <= score < 80:\n",
    "    print(\"Your grade is 'C'\")\n",
    "elif 60 <= score < 70:\n",
    "    print(\"Your grade is 'D'\")\n",
    "elif 0 <= score < 60:\n",
    "    print(\"Your grade is 'F'\")\n",
    "else:\n",
    "    print('Invalid score')"
   ]
  }
 ],
 "metadata": {
  "kernelspec": {
   "display_name": "base",
   "language": "python",
   "name": "python3"
  },
  "language_info": {
   "codemirror_mode": {
    "name": "ipython",
    "version": 3
   },
   "file_extension": ".py",
   "mimetype": "text/x-python",
   "name": "python",
   "nbconvert_exporter": "python",
   "pygments_lexer": "ipython3",
   "version": "3.12.7"
  }
 },
 "nbformat": 4,
 "nbformat_minor": 5
}
