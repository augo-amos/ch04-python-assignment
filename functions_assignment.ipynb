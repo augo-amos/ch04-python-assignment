{
 "cells": [
  {
   "cell_type": "markdown",
   "id": "7ab924bd",
   "metadata": {},
   "source": [
    "## **Functions**\n",
    "\n",
    "Write a function `greet(name)` that prints `“Hello, [name]”`."
   ]
  },
  {
   "cell_type": "code",
   "execution_count": 3,
   "id": "c1c3356f",
   "metadata": {},
   "outputs": [
    {
     "name": "stdout",
     "output_type": "stream",
     "text": [
      "Hello, Alice\n"
     ]
    }
   ],
   "source": [
    "def greet(name):\n",
    "    print(f'Hello, {name}')\n",
    "\n",
    "greet('Alice')"
   ]
  },
  {
   "cell_type": "markdown",
   "id": "67cd9230",
   "metadata": {},
   "source": [
    "Create a function `add(a, b)` that returns the sum."
   ]
  },
  {
   "cell_type": "code",
   "execution_count": 4,
   "id": "e6a28933",
   "metadata": {},
   "outputs": [
    {
     "data": {
      "text/plain": [
       "10"
      ]
     },
     "execution_count": 4,
     "metadata": {},
     "output_type": "execute_result"
    }
   ],
   "source": [
    "def add(a, b):\n",
    "    result = a + b\n",
    "    return result\n",
    "\n",
    "add(2, 8)"
   ]
  },
  {
   "cell_type": "markdown",
   "id": "594e821c",
   "metadata": {},
   "source": [
    "Modify `add()` to print “even” or “odd” based on the result.\n"
   ]
  },
  {
   "cell_type": "code",
   "execution_count": 7,
   "id": "73c99094",
   "metadata": {},
   "outputs": [
    {
     "name": "stdout",
     "output_type": "stream",
     "text": [
      "odd\n"
     ]
    }
   ],
   "source": [
    "def add(a, b):\n",
    "    result = a + b\n",
    "    if result%2 == 0:\n",
    "        print(\"even\")\n",
    "    else:\n",
    "        print(\"odd\")\n",
    "\n",
    "add(4, 3)"
   ]
  },
  {
   "cell_type": "markdown",
   "id": "a57da789",
   "metadata": {},
   "source": [
    "Call a function from within another function."
   ]
  },
  {
   "cell_type": "code",
   "execution_count": 9,
   "id": "4497d93b",
   "metadata": {},
   "outputs": [
    {
     "name": "stdout",
     "output_type": "stream",
     "text": [
      "Hello, Bob\n",
      "Good to see you today!\n"
     ]
    }
   ],
   "source": [
    "def greet(name):\n",
    "    return f'Hello, {name}'\n",
    "\n",
    "def welcome_note(name):\n",
    "    greeting = greet(name)\n",
    "    print(greeting)\n",
    "    print('Good to see you today!')\n",
    "\n",
    "welcome_note('Bob')"
   ]
  },
  {
   "cell_type": "markdown",
   "id": "d455354b",
   "metadata": {},
   "source": [
    "## **Challenge**\n",
    "Write a calculator function:\n",
    "\n",
    "- Takes two numbers and an operation (+, -, *, /)\n",
    "- Returns the result"
   ]
  },
  {
   "cell_type": "code",
   "execution_count": 13,
   "id": "2c1e1fc4",
   "metadata": {},
   "outputs": [
    {
     "data": {
      "text/plain": [
       "2.0"
      ]
     },
     "execution_count": 13,
     "metadata": {},
     "output_type": "execute_result"
    }
   ],
   "source": [
    "def calculator(num1, num2, operation):\n",
    "    if operation == '+':\n",
    "        return num1 + num2\n",
    "    elif operation == '-':\n",
    "        return num1 - num2\n",
    "    elif operation == '*':\n",
    "        return num1 * num2\n",
    "    elif operation == '/':\n",
    "        if num2 != 0:\n",
    "            return num1 / num2\n",
    "        else:\n",
    "            return \"Error: Division by zero\"\n",
    "    else:\n",
    "        return \"Error: Invalid operation\"\n",
    "    \n",
    "calculator(10, 5, '/') "
   ]
  }
 ],
 "metadata": {
  "kernelspec": {
   "display_name": "base",
   "language": "python",
   "name": "python3"
  },
  "language_info": {
   "codemirror_mode": {
    "name": "ipython",
    "version": 3
   },
   "file_extension": ".py",
   "mimetype": "text/x-python",
   "name": "python",
   "nbconvert_exporter": "python",
   "pygments_lexer": "ipython3",
   "version": "3.12.7"
  }
 },
 "nbformat": 4,
 "nbformat_minor": 5
}
